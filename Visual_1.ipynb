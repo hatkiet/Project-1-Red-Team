{
 "cells": [
  {
   "cell_type": "markdown",
   "id": "36fbd924-7d85-44c6-b491-ab03a4a1900b",
   "metadata": {},
   "source": [
    "# Overview of Genres: "
   ]
  },
  {
   "cell_type": "code",
   "execution_count": 3,
   "id": "e3da4af2-91c6-4dfd-ab01-1740fcdf9b18",
   "metadata": {},
   "outputs": [],
   "source": [
    "import requests\n",
    "import json\n",
    "import pandas as pd"
   ]
  },
  {
   "cell_type": "code",
   "execution_count": 4,
   "id": "b8148ea1-8727-446e-ab53-dc74b33a7143",
   "metadata": {},
   "outputs": [
    {
     "data": {
      "text/html": [
       "<div>\n",
       "<style scoped>\n",
       "    .dataframe tbody tr th:only-of-type {\n",
       "        vertical-align: middle;\n",
       "    }\n",
       "\n",
       "    .dataframe tbody tr th {\n",
       "        vertical-align: top;\n",
       "    }\n",
       "\n",
       "    .dataframe thead th {\n",
       "        text-align: right;\n",
       "    }\n",
       "</style>\n",
       "<table border=\"1\" class=\"dataframe\">\n",
       "  <thead>\n",
       "    <tr style=\"text-align: right;\">\n",
       "      <th></th>\n",
       "      <th>names</th>\n",
       "      <th>date_x</th>\n",
       "      <th>score</th>\n",
       "      <th>genre</th>\n",
       "      <th>overview</th>\n",
       "      <th>crew</th>\n",
       "      <th>orig_title</th>\n",
       "      <th>status</th>\n",
       "      <th>orig_lang</th>\n",
       "      <th>budget_x</th>\n",
       "      <th>revenue</th>\n",
       "      <th>country</th>\n",
       "    </tr>\n",
       "  </thead>\n",
       "  <tbody>\n",
       "    <tr>\n",
       "      <th>0</th>\n",
       "      <td>Creed III</td>\n",
       "      <td>03/02/2023</td>\n",
       "      <td>73.0</td>\n",
       "      <td>Drama, Action</td>\n",
       "      <td>After dominating the boxing world, Adonis Cree...</td>\n",
       "      <td>Michael B. Jordan, Adonis Creed, Tessa Thompso...</td>\n",
       "      <td>Creed III</td>\n",
       "      <td>Released</td>\n",
       "      <td>English</td>\n",
       "      <td>75000000.0</td>\n",
       "      <td>2.716167e+08</td>\n",
       "      <td>AU</td>\n",
       "    </tr>\n",
       "    <tr>\n",
       "      <th>1</th>\n",
       "      <td>Avatar: The Way of Water</td>\n",
       "      <td>12/15/2022</td>\n",
       "      <td>78.0</td>\n",
       "      <td>Science Fiction, Adventure, Action</td>\n",
       "      <td>Set more than a decade after the events of the...</td>\n",
       "      <td>Sam Worthington, Jake Sully, Zoe Saldaña, Neyt...</td>\n",
       "      <td>Avatar: The Way of Water</td>\n",
       "      <td>Released</td>\n",
       "      <td>English</td>\n",
       "      <td>460000000.0</td>\n",
       "      <td>2.316795e+09</td>\n",
       "      <td>AU</td>\n",
       "    </tr>\n",
       "    <tr>\n",
       "      <th>2</th>\n",
       "      <td>The Super Mario Bros. Movie</td>\n",
       "      <td>04/05/2023</td>\n",
       "      <td>76.0</td>\n",
       "      <td>Animation, Adventure, Family, Fantasy, Comedy</td>\n",
       "      <td>While working underground to fix a water main,...</td>\n",
       "      <td>Chris Pratt, Mario (voice), Anya Taylor-Joy, P...</td>\n",
       "      <td>The Super Mario Bros. Movie</td>\n",
       "      <td>Released</td>\n",
       "      <td>English</td>\n",
       "      <td>100000000.0</td>\n",
       "      <td>7.244590e+08</td>\n",
       "      <td>AU</td>\n",
       "    </tr>\n",
       "    <tr>\n",
       "      <th>3</th>\n",
       "      <td>Mummies</td>\n",
       "      <td>01/05/2023</td>\n",
       "      <td>70.0</td>\n",
       "      <td>Animation, Comedy, Family, Adventure, Fantasy</td>\n",
       "      <td>Through a series of unfortunate events, three ...</td>\n",
       "      <td>Óscar Barberán, Thut (voice), Ana Esther Albor...</td>\n",
       "      <td>Momias</td>\n",
       "      <td>Released</td>\n",
       "      <td>Spanish, Castilian</td>\n",
       "      <td>12300000.0</td>\n",
       "      <td>3.420000e+07</td>\n",
       "      <td>AU</td>\n",
       "    </tr>\n",
       "    <tr>\n",
       "      <th>4</th>\n",
       "      <td>Supercell</td>\n",
       "      <td>03/17/2023</td>\n",
       "      <td>61.0</td>\n",
       "      <td>Action</td>\n",
       "      <td>Good-hearted teenager William always lived in ...</td>\n",
       "      <td>Skeet Ulrich, Roy Cameron, Anne Heche, Dr Quin...</td>\n",
       "      <td>Supercell</td>\n",
       "      <td>Released</td>\n",
       "      <td>English</td>\n",
       "      <td>77000000.0</td>\n",
       "      <td>3.409420e+08</td>\n",
       "      <td>US</td>\n",
       "    </tr>\n",
       "  </tbody>\n",
       "</table>\n",
       "</div>"
      ],
      "text/plain": [
       "                         names       date_x  score  \\\n",
       "0                    Creed III  03/02/2023    73.0   \n",
       "1     Avatar: The Way of Water  12/15/2022    78.0   \n",
       "2  The Super Mario Bros. Movie  04/05/2023    76.0   \n",
       "3                      Mummies  01/05/2023    70.0   \n",
       "4                    Supercell  03/17/2023    61.0   \n",
       "\n",
       "                                           genre  \\\n",
       "0                                  Drama, Action   \n",
       "1             Science Fiction, Adventure, Action   \n",
       "2  Animation, Adventure, Family, Fantasy, Comedy   \n",
       "3  Animation, Comedy, Family, Adventure, Fantasy   \n",
       "4                                         Action   \n",
       "\n",
       "                                            overview  \\\n",
       "0  After dominating the boxing world, Adonis Cree...   \n",
       "1  Set more than a decade after the events of the...   \n",
       "2  While working underground to fix a water main,...   \n",
       "3  Through a series of unfortunate events, three ...   \n",
       "4  Good-hearted teenager William always lived in ...   \n",
       "\n",
       "                                                crew  \\\n",
       "0  Michael B. Jordan, Adonis Creed, Tessa Thompso...   \n",
       "1  Sam Worthington, Jake Sully, Zoe Saldaña, Neyt...   \n",
       "2  Chris Pratt, Mario (voice), Anya Taylor-Joy, P...   \n",
       "3  Óscar Barberán, Thut (voice), Ana Esther Albor...   \n",
       "4  Skeet Ulrich, Roy Cameron, Anne Heche, Dr Quin...   \n",
       "\n",
       "                    orig_title     status            orig_lang     budget_x  \\\n",
       "0                    Creed III   Released              English   75000000.0   \n",
       "1     Avatar: The Way of Water   Released              English  460000000.0   \n",
       "2  The Super Mario Bros. Movie   Released              English  100000000.0   \n",
       "3                       Momias   Released   Spanish, Castilian   12300000.0   \n",
       "4                    Supercell   Released              English   77000000.0   \n",
       "\n",
       "        revenue country  \n",
       "0  2.716167e+08      AU  \n",
       "1  2.316795e+09      AU  \n",
       "2  7.244590e+08      AU  \n",
       "3  3.420000e+07      AU  \n",
       "4  3.409420e+08      US  "
      ]
     },
     "execution_count": 4,
     "metadata": {},
     "output_type": "execute_result"
    }
   ],
   "source": [
    "df = pd.read_csv (\"imdb_movies.csv\")\n",
    "df.head()"
   ]
  },
  {
   "cell_type": "code",
   "execution_count": 5,
   "id": "90bc0caf-ff9d-4fdb-b5e6-cfe523178ac5",
   "metadata": {},
   "outputs": [
    {
     "data": {
      "text/html": [
       "<div>\n",
       "<style scoped>\n",
       "    .dataframe tbody tr th:only-of-type {\n",
       "        vertical-align: middle;\n",
       "    }\n",
       "\n",
       "    .dataframe tbody tr th {\n",
       "        vertical-align: top;\n",
       "    }\n",
       "\n",
       "    .dataframe thead th {\n",
       "        text-align: right;\n",
       "    }\n",
       "</style>\n",
       "<table border=\"1\" class=\"dataframe\">\n",
       "  <thead>\n",
       "    <tr style=\"text-align: right;\">\n",
       "      <th></th>\n",
       "      <th>names</th>\n",
       "      <th>date_x</th>\n",
       "      <th>score</th>\n",
       "      <th>genre</th>\n",
       "      <th>budget_x</th>\n",
       "      <th>revenue</th>\n",
       "      <th>orig_lang</th>\n",
       "    </tr>\n",
       "  </thead>\n",
       "  <tbody>\n",
       "    <tr>\n",
       "      <th>0</th>\n",
       "      <td>Creed III</td>\n",
       "      <td>03/02/2023</td>\n",
       "      <td>73.0</td>\n",
       "      <td>Drama, Action</td>\n",
       "      <td>75000000.0</td>\n",
       "      <td>2.716167e+08</td>\n",
       "      <td>English</td>\n",
       "    </tr>\n",
       "    <tr>\n",
       "      <th>1</th>\n",
       "      <td>Avatar: The Way of Water</td>\n",
       "      <td>12/15/2022</td>\n",
       "      <td>78.0</td>\n",
       "      <td>Science Fiction, Adventure, Action</td>\n",
       "      <td>460000000.0</td>\n",
       "      <td>2.316795e+09</td>\n",
       "      <td>English</td>\n",
       "    </tr>\n",
       "    <tr>\n",
       "      <th>2</th>\n",
       "      <td>The Super Mario Bros. Movie</td>\n",
       "      <td>04/05/2023</td>\n",
       "      <td>76.0</td>\n",
       "      <td>Animation, Adventure, Family, Fantasy, Comedy</td>\n",
       "      <td>100000000.0</td>\n",
       "      <td>7.244590e+08</td>\n",
       "      <td>English</td>\n",
       "    </tr>\n",
       "    <tr>\n",
       "      <th>3</th>\n",
       "      <td>Mummies</td>\n",
       "      <td>01/05/2023</td>\n",
       "      <td>70.0</td>\n",
       "      <td>Animation, Comedy, Family, Adventure, Fantasy</td>\n",
       "      <td>12300000.0</td>\n",
       "      <td>3.420000e+07</td>\n",
       "      <td>Spanish, Castilian</td>\n",
       "    </tr>\n",
       "    <tr>\n",
       "      <th>4</th>\n",
       "      <td>Supercell</td>\n",
       "      <td>03/17/2023</td>\n",
       "      <td>61.0</td>\n",
       "      <td>Action</td>\n",
       "      <td>77000000.0</td>\n",
       "      <td>3.409420e+08</td>\n",
       "      <td>English</td>\n",
       "    </tr>\n",
       "  </tbody>\n",
       "</table>\n",
       "</div>"
      ],
      "text/plain": [
       "                         names       date_x  score  \\\n",
       "0                    Creed III  03/02/2023    73.0   \n",
       "1     Avatar: The Way of Water  12/15/2022    78.0   \n",
       "2  The Super Mario Bros. Movie  04/05/2023    76.0   \n",
       "3                      Mummies  01/05/2023    70.0   \n",
       "4                    Supercell  03/17/2023    61.0   \n",
       "\n",
       "                                           genre     budget_x       revenue  \\\n",
       "0                                  Drama, Action   75000000.0  2.716167e+08   \n",
       "1             Science Fiction, Adventure, Action  460000000.0  2.316795e+09   \n",
       "2  Animation, Adventure, Family, Fantasy, Comedy  100000000.0  7.244590e+08   \n",
       "3  Animation, Comedy, Family, Adventure, Fantasy   12300000.0  3.420000e+07   \n",
       "4                                         Action   77000000.0  3.409420e+08   \n",
       "\n",
       "             orig_lang  \n",
       "0              English  \n",
       "1              English  \n",
       "2              English  \n",
       "3   Spanish, Castilian  \n",
       "4              English  "
      ]
     },
     "execution_count": 5,
     "metadata": {},
     "output_type": "execute_result"
    }
   ],
   "source": [
    "movie_df = df[[\"names\",\"date_x\",\"score\",\"genre\",\"budget_x\",\"revenue\",\"orig_lang\"]].copy()\n",
    "movie_df.head()"
   ]
  },
  {
   "cell_type": "code",
   "execution_count": 6,
   "id": "63a50d3e-d3d5-4cb2-8ad1-c49323e5c9aa",
   "metadata": {
    "scrolled": true
   },
   "outputs": [
    {
     "data": {
      "text/html": [
       "<div>\n",
       "<style scoped>\n",
       "    .dataframe tbody tr th:only-of-type {\n",
       "        vertical-align: middle;\n",
       "    }\n",
       "\n",
       "    .dataframe tbody tr th {\n",
       "        vertical-align: top;\n",
       "    }\n",
       "\n",
       "    .dataframe thead th {\n",
       "        text-align: right;\n",
       "    }\n",
       "</style>\n",
       "<table border=\"1\" class=\"dataframe\">\n",
       "  <thead>\n",
       "    <tr style=\"text-align: right;\">\n",
       "      <th></th>\n",
       "      <th>names</th>\n",
       "      <th>date_x</th>\n",
       "      <th>score</th>\n",
       "      <th>genre</th>\n",
       "      <th>budget_x</th>\n",
       "      <th>revenue</th>\n",
       "      <th>orig_lang</th>\n",
       "    </tr>\n",
       "  </thead>\n",
       "  <tbody>\n",
       "    <tr>\n",
       "      <th>0</th>\n",
       "      <td>Creed III</td>\n",
       "      <td>03/02/2023</td>\n",
       "      <td>73.0</td>\n",
       "      <td>Drama, Action</td>\n",
       "      <td>75000000.0</td>\n",
       "      <td>2.716167e+08</td>\n",
       "      <td>English</td>\n",
       "    </tr>\n",
       "    <tr>\n",
       "      <th>1</th>\n",
       "      <td>Avatar: The Way of Water</td>\n",
       "      <td>12/15/2022</td>\n",
       "      <td>78.0</td>\n",
       "      <td>Science Fiction, Adventure, Action</td>\n",
       "      <td>460000000.0</td>\n",
       "      <td>2.316795e+09</td>\n",
       "      <td>English</td>\n",
       "    </tr>\n",
       "    <tr>\n",
       "      <th>2</th>\n",
       "      <td>The Super Mario Bros. Movie</td>\n",
       "      <td>04/05/2023</td>\n",
       "      <td>76.0</td>\n",
       "      <td>Animation, Adventure, Family, Fantasy, Comedy</td>\n",
       "      <td>100000000.0</td>\n",
       "      <td>7.244590e+08</td>\n",
       "      <td>English</td>\n",
       "    </tr>\n",
       "    <tr>\n",
       "      <th>4</th>\n",
       "      <td>Supercell</td>\n",
       "      <td>03/17/2023</td>\n",
       "      <td>61.0</td>\n",
       "      <td>Action</td>\n",
       "      <td>77000000.0</td>\n",
       "      <td>3.409420e+08</td>\n",
       "      <td>English</td>\n",
       "    </tr>\n",
       "    <tr>\n",
       "      <th>5</th>\n",
       "      <td>Cocaine Bear</td>\n",
       "      <td>02/23/2023</td>\n",
       "      <td>66.0</td>\n",
       "      <td>Thriller, Comedy, Crime</td>\n",
       "      <td>35000000.0</td>\n",
       "      <td>8.000000e+07</td>\n",
       "      <td>English</td>\n",
       "    </tr>\n",
       "  </tbody>\n",
       "</table>\n",
       "</div>"
      ],
      "text/plain": [
       "                         names       date_x  score  \\\n",
       "0                    Creed III  03/02/2023    73.0   \n",
       "1     Avatar: The Way of Water  12/15/2022    78.0   \n",
       "2  The Super Mario Bros. Movie  04/05/2023    76.0   \n",
       "4                    Supercell  03/17/2023    61.0   \n",
       "5                 Cocaine Bear  02/23/2023    66.0   \n",
       "\n",
       "                                           genre     budget_x       revenue  \\\n",
       "0                                  Drama, Action   75000000.0  2.716167e+08   \n",
       "1             Science Fiction, Adventure, Action  460000000.0  2.316795e+09   \n",
       "2  Animation, Adventure, Family, Fantasy, Comedy  100000000.0  7.244590e+08   \n",
       "4                                         Action   77000000.0  3.409420e+08   \n",
       "5                        Thriller, Comedy, Crime   35000000.0  8.000000e+07   \n",
       "\n",
       "  orig_lang  \n",
       "0   English  \n",
       "1   English  \n",
       "2   English  \n",
       "4   English  \n",
       "5   English  "
      ]
     },
     "execution_count": 6,
     "metadata": {},
     "output_type": "execute_result"
    }
   ],
   "source": [
    "# movie_df[\"orig_lang\"] = movie_df[\"orig_lang\"].str.lstrip().str.rstrip()\n",
    "movie_df[\"orig_lang\"] = movie_df[\"orig_lang\"].str.strip()\n",
    "filtered_movies_df = movie_df[(movie_df[\"revenue\"] > 0) & (movie_df[\"orig_lang\"] == \"English\")]\n",
    "filtered_movies_df.head(5)"
   ]
  },
  {
   "cell_type": "code",
   "execution_count": 7,
   "id": "70f5782a-7de2-499b-b9c6-c317cd30c097",
   "metadata": {},
   "outputs": [
    {
     "data": {
      "text/plain": [
       "array(['Creed III', 'Avatar: The Way of Water',\n",
       "       'The Super Mario Bros. Movie', ..., 'The Russia House',\n",
       "       'Darkman II: The Return of Durant',\n",
       "       'The Swan Princess: A Royal Wedding'], dtype=object)"
      ]
     },
     "execution_count": 7,
     "metadata": {},
     "output_type": "execute_result"
    }
   ],
   "source": [
    "filtered_movies_df[\"names\"].unique()"
   ]
  },
  {
   "cell_type": "code",
   "execution_count": 8,
   "id": "7ca1f23a-820c-4932-b0a8-72225cae1d75",
   "metadata": {},
   "outputs": [
    {
     "data": {
      "text/plain": [
       "names         object\n",
       "date_x        object\n",
       "score        float64\n",
       "genre         object\n",
       "budget_x     float64\n",
       "revenue      float64\n",
       "orig_lang     object\n",
       "dtype: object"
      ]
     },
     "execution_count": 8,
     "metadata": {},
     "output_type": "execute_result"
    }
   ],
   "source": [
    "filtered_movies_df.dtypes"
   ]
  },
  {
   "cell_type": "code",
   "execution_count": 9,
   "id": "7e68fb3b-dbb6-42ff-be5b-fe5636eb73ba",
   "metadata": {},
   "outputs": [
    {
     "data": {
      "text/html": [
       "<div>\n",
       "<style scoped>\n",
       "    .dataframe tbody tr th:only-of-type {\n",
       "        vertical-align: middle;\n",
       "    }\n",
       "\n",
       "    .dataframe tbody tr th {\n",
       "        vertical-align: top;\n",
       "    }\n",
       "\n",
       "    .dataframe thead th {\n",
       "        text-align: right;\n",
       "    }\n",
       "</style>\n",
       "<table border=\"1\" class=\"dataframe\">\n",
       "  <thead>\n",
       "    <tr style=\"text-align: right;\">\n",
       "      <th></th>\n",
       "      <th>Name</th>\n",
       "      <th>Year</th>\n",
       "      <th>Score</th>\n",
       "      <th>Genre</th>\n",
       "      <th>Budget</th>\n",
       "      <th>Revenue</th>\n",
       "      <th>Language</th>\n",
       "    </tr>\n",
       "  </thead>\n",
       "  <tbody>\n",
       "    <tr>\n",
       "      <th>0</th>\n",
       "      <td>Creed III</td>\n",
       "      <td>2023</td>\n",
       "      <td>73.0</td>\n",
       "      <td>Drama, Action</td>\n",
       "      <td>75000000.0</td>\n",
       "      <td>2.716167e+08</td>\n",
       "      <td>English</td>\n",
       "    </tr>\n",
       "    <tr>\n",
       "      <th>1</th>\n",
       "      <td>Avatar: The Way of Water</td>\n",
       "      <td>2022</td>\n",
       "      <td>78.0</td>\n",
       "      <td>Science Fiction, Adventure, Action</td>\n",
       "      <td>460000000.0</td>\n",
       "      <td>2.316795e+09</td>\n",
       "      <td>English</td>\n",
       "    </tr>\n",
       "    <tr>\n",
       "      <th>2</th>\n",
       "      <td>The Super Mario Bros. Movie</td>\n",
       "      <td>2023</td>\n",
       "      <td>76.0</td>\n",
       "      <td>Animation, Adventure, Family, Fantasy, Comedy</td>\n",
       "      <td>100000000.0</td>\n",
       "      <td>7.244590e+08</td>\n",
       "      <td>English</td>\n",
       "    </tr>\n",
       "    <tr>\n",
       "      <th>4</th>\n",
       "      <td>Supercell</td>\n",
       "      <td>2023</td>\n",
       "      <td>61.0</td>\n",
       "      <td>Action</td>\n",
       "      <td>77000000.0</td>\n",
       "      <td>3.409420e+08</td>\n",
       "      <td>English</td>\n",
       "    </tr>\n",
       "    <tr>\n",
       "      <th>5</th>\n",
       "      <td>Cocaine Bear</td>\n",
       "      <td>2023</td>\n",
       "      <td>66.0</td>\n",
       "      <td>Thriller, Comedy, Crime</td>\n",
       "      <td>35000000.0</td>\n",
       "      <td>8.000000e+07</td>\n",
       "      <td>English</td>\n",
       "    </tr>\n",
       "  </tbody>\n",
       "</table>\n",
       "</div>"
      ],
      "text/plain": [
       "                          Name  Year  Score  \\\n",
       "0                    Creed III  2023   73.0   \n",
       "1     Avatar: The Way of Water  2022   78.0   \n",
       "2  The Super Mario Bros. Movie  2023   76.0   \n",
       "4                    Supercell  2023   61.0   \n",
       "5                 Cocaine Bear  2023   66.0   \n",
       "\n",
       "                                           Genre       Budget       Revenue  \\\n",
       "0                                  Drama, Action   75000000.0  2.716167e+08   \n",
       "1             Science Fiction, Adventure, Action  460000000.0  2.316795e+09   \n",
       "2  Animation, Adventure, Family, Fantasy, Comedy  100000000.0  7.244590e+08   \n",
       "4                                         Action   77000000.0  3.409420e+08   \n",
       "5                        Thriller, Comedy, Crime   35000000.0  8.000000e+07   \n",
       "\n",
       "  Language  \n",
       "0  English  \n",
       "1  English  \n",
       "2  English  \n",
       "4  English  \n",
       "5  English  "
      ]
     },
     "execution_count": 9,
     "metadata": {},
     "output_type": "execute_result"
    }
   ],
   "source": [
    "# Convert 'Year' column to datetime format\n",
    "filtered_movies_df.loc[:,\"date_x\"]=pd.to_datetime(filtered_movies_df[\"date_x\"], errors='coerce').dt.year.astype(int)\n",
    "filtered_movies_df = filtered_movies_df.rename(columns={\"date_x\":\"Year\",\n",
    "                                                        \"budget_x\":\"Budget\",\n",
    "                                                        \"names\":\"Name\",\n",
    "                                                        \"score\":\"Score\",\n",
    "                                                        \"genre\":\"Genre\",\n",
    "                                                        \"revenue\":\"Revenue\",\n",
    "                                                        \"orig_lang\":\"Language\"\n",
    "                                                       })\n",
    "filtered_movies_df.head()"
   ]
  },
  {
   "cell_type": "code",
   "execution_count": 10,
   "id": "d9fde264-04ab-4d0f-afb8-58dcf674fc02",
   "metadata": {},
   "outputs": [
    {
     "data": {
      "text/plain": [
       "Name         object\n",
       "Year         object\n",
       "Score       float64\n",
       "Genre        object\n",
       "Budget      float64\n",
       "Revenue     float64\n",
       "Language     object\n",
       "dtype: object"
      ]
     },
     "execution_count": 10,
     "metadata": {},
     "output_type": "execute_result"
    }
   ],
   "source": [
    "filtered_movies_df.dtypes"
   ]
  },
  {
   "cell_type": "code",
   "execution_count": 11,
   "id": "7c8ac048-0737-4556-a249-35e77f2fddab",
   "metadata": {},
   "outputs": [
    {
     "name": "stdout",
     "output_type": "stream",
     "text": [
      "Non-numeric values are: Empty DataFrame\n",
      "Columns: [Name, Year, Score, Genre, Budget, Revenue, Language]\n",
      "Index: []\n"
     ]
    },
    {
     "data": {
      "text/plain": [
       "array([2004, 2017, 2019, 1994, 2009, 2014, 1993, 2018, 2015, 2016, 2020,\n",
       "       2005, 2001, 2002, 2012, 2010, 2007, 2011, 2003, 1995, 1997, 2006,\n",
       "       1990, 2013, 1998, 2008, 2000, 1999, 1992, 1991, 1996], dtype=int64)"
      ]
     },
     "execution_count": 11,
     "metadata": {},
     "output_type": "execute_result"
    }
   ],
   "source": [
    "# Convert 'Year' column to numeric format\n",
    "filtered_movies_df['Year'] = pd.to_numeric(filtered_movies_df['Year'], errors='coerce')\n",
    "\n",
    "# Check for non-numeric values\n",
    "non_numeric_years = filtered_movies_df[filtered_movies_df['Year'].isnull()]\n",
    "print(f\"Non-numeric values are: {non_numeric_years}\")\n",
    "\n",
    "# Check unique values in 'Year' column\n",
    "filtered_movies_df = filtered_movies_df.loc[(filtered_movies_df[\"Year\"]<=2020)&(filtered_movies_df[\"Year\"]>=1990),:]\n",
    "Unique_years = filtered_movies_df['Year'].unique()\n",
    "Unique_years"
   ]
  },
  {
   "cell_type": "code",
   "execution_count": 12,
   "id": "68124f44-c6cf-4e3f-8dd8-bfd77dbbece5",
   "metadata": {},
   "outputs": [
    {
     "data": {
      "text/plain": [
       "Name        5272\n",
       "Year        5272\n",
       "Score       5272\n",
       "Genre       5266\n",
       "Budget      5272\n",
       "Revenue     5272\n",
       "Language    5272\n",
       "dtype: int64"
      ]
     },
     "execution_count": 12,
     "metadata": {},
     "output_type": "execute_result"
    }
   ],
   "source": [
    "# Check how many data points we have:\n",
    "filtered_movies_df.count()"
   ]
  },
  {
   "cell_type": "code",
   "execution_count": 13,
   "id": "e3da2536-98fd-41ae-b646-50ff12e8f9a7",
   "metadata": {},
   "outputs": [
    {
     "data": {
      "text/plain": [
       "Name        5093\n",
       "Year          31\n",
       "Score         61\n",
       "Genre       1530\n",
       "Budget      1159\n",
       "Revenue     4968\n",
       "Language       1\n",
       "dtype: int64"
      ]
     },
     "execution_count": 13,
     "metadata": {},
     "output_type": "execute_result"
    }
   ],
   "source": [
    "# Check if there are all unique:\n",
    "filtered_movies_df.nunique()"
   ]
  },
  {
   "cell_type": "code",
   "execution_count": 14,
   "id": "6cc33bf1-aa95-4612-9da7-5657f882e5a9",
   "metadata": {},
   "outputs": [
    {
     "name": "stdout",
     "output_type": "stream",
     "text": [
      "The following movies were duplicated: \n",
      "                    Name  Year  Score                               Genre  \\\n",
      "212         The Avengers  2012   77.0  Science Fiction, Action, Adventure   \n",
      "222             Brothers  2010   73.0                Drama, Thriller, War   \n",
      "328        The Lion King  1994   83.0            Family, Animation, Drama   \n",
      "380               Scream  1997   74.0              Crime, Horror, Mystery   \n",
      "418                Mulan  1998   79.0        Animation, Family, Adventure   \n",
      "...                  ...   ...    ...                                 ...   \n",
      "7723          The Signal  2014   60.0           Thriller, Science Fiction   \n",
      "8115        Little Women  1994   73.0                      Drama, Romance   \n",
      "8219  Death at a Funeral  2010   58.0                              Comedy   \n",
      "8991                Skin  2018   66.0                               Drama   \n",
      "9149     The Jungle Book  1994   60.0            Family, Adventure, Drama   \n",
      "\n",
      "          Budget      Revenue Language  \n",
      "212   60000000.0   48585416.0  English  \n",
      "222   13000000.0   17856688.0  English  \n",
      "328   79300000.0  986193783.0  English  \n",
      "380   15000000.0  173046640.0  English  \n",
      "418   90000000.0  303500000.0  English  \n",
      "...          ...          ...      ...  \n",
      "7723     50000.0     406299.0  English  \n",
      "8115  15000000.0   50003303.0  English  \n",
      "8219  20000000.0   47289148.0  English  \n",
      "8991  47220616.4  319773152.6  English  \n",
      "9149  27000000.0   44342956.0  English  \n",
      "\n",
      "[106 rows x 7 columns]\n"
     ]
    }
   ],
   "source": [
    "# Check for any duplication:\n",
    "duplicated_movies = filtered_movies_df[filtered_movies_df.duplicated([\"Name\",\"Year\"],keep=\"first\")]\n",
    "print(f\"The following movies were duplicated: \")\n",
    "print (duplicated_movies)"
   ]
  },
  {
   "cell_type": "code",
   "execution_count": 15,
   "id": "56f0d476-fe3c-4daa-81fb-ad33c8f9e6e7",
   "metadata": {},
   "outputs": [
    {
     "data": {
      "text/plain": [
       "Name        5063\n",
       "Year        5063\n",
       "Score       5063\n",
       "Genre       5058\n",
       "Budget      5063\n",
       "Revenue     5063\n",
       "Language    5063\n",
       "dtype: int64"
      ]
     },
     "execution_count": 15,
     "metadata": {},
     "output_type": "execute_result"
    }
   ],
   "source": [
    "# Check for leading or trailing white spaces and standardize capitalization:\n",
    "filtered_movies_df['Name'] = filtered_movies_df['Name'].str.strip()\n",
    "filtered_movies_df['Name'] = filtered_movies_df['Name'].str.lower()\n",
    "# Dropping the duplications:\n",
    "deduplicated_movies_df = filtered_movies_df.drop_duplicates(subset=[\"Name\",\"Year\"],keep=False)\n",
    "deduplicated_movies_df.reset_index(drop=True, inplace = True)\n",
    "deduplicated_movies_df.count()"
   ]
  },
  {
   "cell_type": "code",
   "execution_count": 16,
   "id": "934cfe04-105a-40bf-9ea9-38bdb268f1b7",
   "metadata": {
    "scrolled": true
   },
   "outputs": [
    {
     "data": {
      "text/plain": [
       "Name        5058\n",
       "Year        5058\n",
       "Score       5058\n",
       "Genre       5058\n",
       "Budget      5058\n",
       "Revenue     5058\n",
       "Language    5058\n",
       "dtype: int64"
      ]
     },
     "execution_count": 16,
     "metadata": {},
     "output_type": "execute_result"
    }
   ],
   "source": [
    "deduplicated_movies_df.loc[:, ['Score', 'Budget', 'Revenue']] = deduplicated_movies_df[['Score', 'Budget', 'Revenue']].apply(pd.to_numeric, errors=\"coerce\")\n",
    "Stripped_df = deduplicated_movies_df.dropna()\n",
    "Stripped_df.count()"
   ]
  },
  {
   "cell_type": "code",
   "execution_count": 17,
   "id": "c1d1eba8-690a-437f-a8f6-85a9900f676d",
   "metadata": {},
   "outputs": [
    {
     "data": {
      "text/plain": [
       "Name        5058\n",
       "Year        5058\n",
       "Score       5058\n",
       "Genre       5058\n",
       "Budget      5058\n",
       "Revenue     5058\n",
       "Language    5058\n",
       "dtype: int64"
      ]
     },
     "execution_count": 17,
     "metadata": {},
     "output_type": "execute_result"
    }
   ],
   "source": [
    "Stripped_df.count()"
   ]
  },
  {
   "cell_type": "code",
   "execution_count": 18,
   "id": "a89dd2e9-d70b-4029-a611-b61e683bcaa0",
   "metadata": {},
   "outputs": [
    {
     "data": {
      "text/plain": [
       "Name         object\n",
       "Year          int64\n",
       "Score       float64\n",
       "Genre        object\n",
       "Budget      float64\n",
       "Revenue     float64\n",
       "Language     object\n",
       "dtype: object"
      ]
     },
     "execution_count": 18,
     "metadata": {},
     "output_type": "execute_result"
    }
   ],
   "source": [
    "Stripped_df.dtypes"
   ]
  },
  {
   "cell_type": "code",
   "execution_count": 19,
   "id": "8112dec8-d7e3-4855-a76e-82cd17ac4a41",
   "metadata": {},
   "outputs": [
    {
     "data": {
      "text/plain": [
       "array(['Drama', 'Action,\\xa0Thriller,\\xa0Crime', 'Drama,\\xa0Crime', ...,\n",
       "       'Adventure,\\xa0Comedy,\\xa0Family,\\xa0Science Fiction,\\xa0Action',\n",
       "       'Drama,\\xa0Science Fiction,\\xa0Romance',\n",
       "       'Action,\\xa0Adventure,\\xa0Science Fiction,\\xa0Thriller,\\xa0Horror'],\n",
       "      dtype=object)"
      ]
     },
     "execution_count": 19,
     "metadata": {},
     "output_type": "execute_result"
    }
   ],
   "source": [
    "Stripped_df[\"Genre\"].unique()"
   ]
  },
  {
   "cell_type": "code",
   "execution_count": 20,
   "id": "ac72ea37-183f-43ce-bc0a-62b44e3cdda9",
   "metadata": {},
   "outputs": [
    {
     "data": {
      "text/plain": [
       "0                                                   Drama\n",
       "1                                 Action, Thriller, Crime\n",
       "2                                 Action, Thriller, Crime\n",
       "3                                            Drama, Crime\n",
       "4             Action, Adventure, Fantasy, Science Fiction\n",
       "                              ...                        \n",
       "5058                                                Drama\n",
       "5059                                               Action\n",
       "5060                             Drama, Thriller, Romance\n",
       "5061    Action, Adventure, Science Fiction, Thriller, ...\n",
       "5062                           Animation, Family, Fantasy\n",
       "Name: Genre, Length: 5058, dtype: object"
      ]
     },
     "execution_count": 20,
     "metadata": {},
     "output_type": "execute_result"
    }
   ],
   "source": [
    "for index, row in Stripped_df.iterrows():\n",
    "    Stripped_df.loc[index, 'Genre'] = ', '.join(row['Genre'].replace('\\xa0', '').split(','))\n",
    "Stripped_df['Genre']"
   ]
  },
  {
   "cell_type": "code",
   "execution_count": 21,
   "id": "cc5b2f15-94b1-41b2-b2ed-b7533b22232c",
   "metadata": {},
   "outputs": [
    {
     "data": {
      "text/html": [
       "<div>\n",
       "<style scoped>\n",
       "    .dataframe tbody tr th:only-of-type {\n",
       "        vertical-align: middle;\n",
       "    }\n",
       "\n",
       "    .dataframe tbody tr th {\n",
       "        vertical-align: top;\n",
       "    }\n",
       "\n",
       "    .dataframe thead th {\n",
       "        text-align: right;\n",
       "    }\n",
       "</style>\n",
       "<table border=\"1\" class=\"dataframe\">\n",
       "  <thead>\n",
       "    <tr style=\"text-align: right;\">\n",
       "      <th></th>\n",
       "      <th>Name</th>\n",
       "      <th>Year</th>\n",
       "      <th>Score</th>\n",
       "      <th>Genre</th>\n",
       "      <th>Budget</th>\n",
       "      <th>Revenue</th>\n",
       "      <th>Language</th>\n",
       "      <th>Profit</th>\n",
       "    </tr>\n",
       "  </thead>\n",
       "  <tbody>\n",
       "    <tr>\n",
       "      <th>0</th>\n",
       "      <td>the passion of the christ</td>\n",
       "      <td>2004</td>\n",
       "      <td>74.0</td>\n",
       "      <td>Drama</td>\n",
       "      <td>25000000.0</td>\n",
       "      <td>6.223136e+08</td>\n",
       "      <td>English</td>\n",
       "      <td>5.973136e+08</td>\n",
       "    </tr>\n",
       "    <tr>\n",
       "      <th>1</th>\n",
       "      <td>john wick: chapter 2</td>\n",
       "      <td>2017</td>\n",
       "      <td>73.0</td>\n",
       "      <td>Action, Thriller, Crime</td>\n",
       "      <td>40000000.0</td>\n",
       "      <td>1.715399e+08</td>\n",
       "      <td>English</td>\n",
       "      <td>1.315399e+08</td>\n",
       "    </tr>\n",
       "    <tr>\n",
       "      <th>2</th>\n",
       "      <td>john wick: chapter 3 - parabellum</td>\n",
       "      <td>2019</td>\n",
       "      <td>74.0</td>\n",
       "      <td>Action, Thriller, Crime</td>\n",
       "      <td>55000000.0</td>\n",
       "      <td>3.267097e+08</td>\n",
       "      <td>English</td>\n",
       "      <td>2.717097e+08</td>\n",
       "    </tr>\n",
       "    <tr>\n",
       "      <th>3</th>\n",
       "      <td>a bronx tale</td>\n",
       "      <td>1994</td>\n",
       "      <td>78.0</td>\n",
       "      <td>Drama, Crime</td>\n",
       "      <td>10000000.0</td>\n",
       "      <td>1.728790e+07</td>\n",
       "      <td>English</td>\n",
       "      <td>7.287898e+06</td>\n",
       "    </tr>\n",
       "    <tr>\n",
       "      <th>4</th>\n",
       "      <td>avatar</td>\n",
       "      <td>2009</td>\n",
       "      <td>76.0</td>\n",
       "      <td>Action, Adventure, Fantasy, Science Fiction</td>\n",
       "      <td>237000000.0</td>\n",
       "      <td>2.923706e+09</td>\n",
       "      <td>English</td>\n",
       "      <td>2.686706e+09</td>\n",
       "    </tr>\n",
       "  </tbody>\n",
       "</table>\n",
       "</div>"
      ],
      "text/plain": [
       "                                Name  Year  Score  \\\n",
       "0          the passion of the christ  2004   74.0   \n",
       "1               john wick: chapter 2  2017   73.0   \n",
       "2  john wick: chapter 3 - parabellum  2019   74.0   \n",
       "3                       a bronx tale  1994   78.0   \n",
       "4                             avatar  2009   76.0   \n",
       "\n",
       "                                         Genre       Budget       Revenue  \\\n",
       "0                                        Drama   25000000.0  6.223136e+08   \n",
       "1                      Action, Thriller, Crime   40000000.0  1.715399e+08   \n",
       "2                      Action, Thriller, Crime   55000000.0  3.267097e+08   \n",
       "3                                 Drama, Crime   10000000.0  1.728790e+07   \n",
       "4  Action, Adventure, Fantasy, Science Fiction  237000000.0  2.923706e+09   \n",
       "\n",
       "  Language        Profit  \n",
       "0  English  5.973136e+08  \n",
       "1  English  1.315399e+08  \n",
       "2  English  2.717097e+08  \n",
       "3  English  7.287898e+06  \n",
       "4  English  2.686706e+09  "
      ]
     },
     "execution_count": 21,
     "metadata": {},
     "output_type": "execute_result"
    }
   ],
   "source": [
    "# Create a deep copy of the DataFrame\n",
    "Stripped_df = Stripped_df.copy()\n",
    "\n",
    "# Iterate through each row in the DataFrame\n",
    "for index, row in Stripped_df.iterrows():\n",
    "    # Calculate profit for the current movie\n",
    "    profit = row['Revenue'] - row['Budget']\n",
    "    # Assign the calculated profit to the 'Profit' column for the current row\n",
    "    Stripped_df.loc[index, 'Profit'] = profit\n",
    "\n",
    "Stripped_df.head()"
   ]
  },
  {
   "cell_type": "code",
   "execution_count": 22,
   "id": "16342e28-8895-4278-bdb1-f81f16eb5d3d",
   "metadata": {},
   "outputs": [],
   "source": [
    "# # Initialize an empty set to store all unique genres\n",
    "# unique_genres = set()\n",
    "\n",
    "# # Iterate over the DataFrame rows\n",
    "# for index, row in Stripped_df.iterrows():\n",
    "#     # Split the 'Genre' column by commas and add each genre to the set\n",
    "#     movie_genres = [genre.strip() for genre in row['Genre'].split(',')]\n",
    "#     unique_genres.update(movie_genres)\n",
    "\n",
    "# # Convert the set of unique genres to a list\n",
    "# unique_genres = list(unique_genres)\n",
    "\n",
    "# # Iterate over the DataFrame rows again to create genre columns\n",
    "# for index, row in Stripped_df.iterrows():\n",
    "#     # Split the 'Genre' column by commas and create a dictionary to store genre values\n",
    "#     movie_genres = {genre: 1 if genre.strip() in row['Genre'] else 0 for genre in unique_genres}\n",
    "    \n",
    "#     # Update the DataFrame row with genre values\n",
    "#     for genre, value in movie_genres.items():\n",
    "#         Stripped_df.at[index, genre] = value\n",
    "\n",
    "# # Print the updated DataFrame\n",
    "# Stripped_df.head(15)"
   ]
  },
  {
   "cell_type": "code",
   "execution_count": 23,
   "id": "37f466fe-1806-46bb-9ef9-4d3bfdf35466",
   "metadata": {},
   "outputs": [],
   "source": [
    "# Export the wrangled_df into a csv\n",
    "wrangled_df = Stripped_df.to_csv(\"wrangled_df.csv\",index_label=\"Movie ID\")"
   ]
  },
  {
   "cell_type": "code",
   "execution_count": null,
   "id": "b2a6ba96-7854-4386-b870-2ea317f8269b",
   "metadata": {},
   "outputs": [],
   "source": []
  },
  {
   "cell_type": "code",
   "execution_count": null,
   "id": "2ec12b69-da6c-4eef-8228-3776fed15ce5",
   "metadata": {},
   "outputs": [],
   "source": []
  },
  {
   "cell_type": "code",
   "execution_count": null,
   "id": "0aad9089-6a0b-4872-bb6e-7bb2b19f2673",
   "metadata": {},
   "outputs": [],
   "source": []
  },
  {
   "cell_type": "code",
   "execution_count": null,
   "id": "cb224509-6c69-4fb1-82e0-e79fd3d2dd78",
   "metadata": {},
   "outputs": [],
   "source": []
  }
 ],
 "metadata": {
  "kernelspec": {
   "display_name": "Python 3 (ipykernel)",
   "language": "python",
   "name": "python3"
  },
  "language_info": {
   "codemirror_mode": {
    "name": "ipython",
    "version": 3
   },
   "file_extension": ".py",
   "mimetype": "text/x-python",
   "name": "python",
   "nbconvert_exporter": "python",
   "pygments_lexer": "ipython3",
   "version": "3.10.13"
  }
 },
 "nbformat": 4,
 "nbformat_minor": 5
}
